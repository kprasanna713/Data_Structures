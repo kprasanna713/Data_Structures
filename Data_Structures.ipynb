{
 "cells": [
  {
   "cell_type": "markdown",
   "id": "d464a968",
   "metadata": {},
   "source": [
    "### Data Structures"
   ]
  },
  {
   "cell_type": "markdown",
   "id": "354b7e04",
   "metadata": {},
   "source": [
    "### List- Elements are seperated by comma and ended with square bracket"
   ]
  },
  {
   "cell_type": "markdown",
   "id": "533dc971",
   "metadata": {},
   "source": [
    "### Heterogenous"
   ]
  },
  {
   "cell_type": "markdown",
   "id": "43d6fe6f",
   "metadata": {},
   "source": [
    "### List can be retrived using index"
   ]
  },
  {
   "cell_type": "markdown",
   "id": "7844ac0c",
   "metadata": {},
   "source": [
    "### Mutable"
   ]
  },
  {
   "cell_type": "code",
   "execution_count": 3,
   "id": "24204da3",
   "metadata": {},
   "outputs": [
    {
     "data": {
      "text/plain": [
       "[1, 12.78, \"kohli's 75th century\", 15, 78]"
      ]
     },
     "execution_count": 3,
     "metadata": {},
     "output_type": "execute_result"
    }
   ],
   "source": [
    "sample_list=[1,12.78,\"kohli's 75th century\",15,78]\n",
    "sample_list"
   ]
  },
  {
   "cell_type": "code",
   "execution_count": 4,
   "id": "aba0e95b",
   "metadata": {},
   "outputs": [
    {
     "data": {
      "text/plain": [
       "list"
      ]
     },
     "execution_count": 4,
     "metadata": {},
     "output_type": "execute_result"
    }
   ],
   "source": [
    "type(sample_list)"
   ]
  },
  {
   "cell_type": "code",
   "execution_count": 5,
   "id": "0d8eb8b6",
   "metadata": {},
   "outputs": [
    {
     "data": {
      "text/plain": [
       "1"
      ]
     },
     "execution_count": 5,
     "metadata": {},
     "output_type": "execute_result"
    }
   ],
   "source": [
    "sample_list[0]"
   ]
  },
  {
   "cell_type": "code",
   "execution_count": 7,
   "id": "98520557",
   "metadata": {},
   "outputs": [
    {
     "data": {
      "text/plain": [
       "15"
      ]
     },
     "execution_count": 7,
     "metadata": {},
     "output_type": "execute_result"
    }
   ],
   "source": [
    "sample_list[3]"
   ]
  },
  {
   "cell_type": "code",
   "execution_count": 11,
   "id": "8793fb2d",
   "metadata": {},
   "outputs": [
    {
     "data": {
      "text/plain": [
       "\"kohli's 75th century\""
      ]
     },
     "execution_count": 11,
     "metadata": {},
     "output_type": "execute_result"
    }
   ],
   "source": [
    "sample_list[2]"
   ]
  },
  {
   "cell_type": "code",
   "execution_count": 10,
   "id": "5678734e",
   "metadata": {},
   "outputs": [
    {
     "name": "stdout",
     "output_type": "stream",
     "text": [
      "kohli's 75th century\n"
     ]
    }
   ],
   "source": [
    "print(sample_list[2])"
   ]
  },
  {
   "cell_type": "code",
   "execution_count": 13,
   "id": "4588a574",
   "metadata": {},
   "outputs": [],
   "source": [
    "sample_list[2]=\"kohli's 100th century coming soon\""
   ]
  },
  {
   "cell_type": "code",
   "execution_count": 14,
   "id": "541b022e",
   "metadata": {},
   "outputs": [
    {
     "name": "stdout",
     "output_type": "stream",
     "text": [
      "[1, 12.78, \"kohli's 100th century coming soon\", 15, 78]\n"
     ]
    }
   ],
   "source": [
    "print(sample_list)"
   ]
  },
  {
   "cell_type": "code",
   "execution_count": 15,
   "id": "408dd9e5",
   "metadata": {},
   "outputs": [
    {
     "data": {
      "text/plain": [
       "12.78"
      ]
     },
     "execution_count": 15,
     "metadata": {},
     "output_type": "execute_result"
    }
   ],
   "source": [
    "sample_list[-4]"
   ]
  },
  {
   "cell_type": "code",
   "execution_count": 16,
   "id": "5b53bb74",
   "metadata": {},
   "outputs": [
    {
     "ename": "IndexError",
     "evalue": "list index out of range",
     "output_type": "error",
     "traceback": [
      "\u001b[1;31m---------------------------------------------------------------------------\u001b[0m",
      "\u001b[1;31mIndexError\u001b[0m                                Traceback (most recent call last)",
      "Input \u001b[1;32mIn [16]\u001b[0m, in \u001b[0;36m<cell line: 1>\u001b[1;34m()\u001b[0m\n\u001b[1;32m----> 1\u001b[0m \u001b[43msample_list\u001b[49m\u001b[43m[\u001b[49m\u001b[38;5;241;43m7\u001b[39;49m\u001b[43m]\u001b[49m\n",
      "\u001b[1;31mIndexError\u001b[0m: list index out of range"
     ]
    }
   ],
   "source": [
    "sample_list[7]"
   ]
  },
  {
   "cell_type": "markdown",
   "id": "abfdafdb",
   "metadata": {},
   "source": [
    "### Tuple"
   ]
  },
  {
   "cell_type": "markdown",
   "id": "3418e8f6",
   "metadata": {},
   "source": [
    "### Heterogenous"
   ]
  },
  {
   "cell_type": "markdown",
   "id": "29749ab7",
   "metadata": {},
   "source": [
    "### Praranthesis"
   ]
  },
  {
   "cell_type": "markdown",
   "id": "8d70b3b6",
   "metadata": {},
   "source": [
    "### Can retrive data using index"
   ]
  },
  {
   "cell_type": "markdown",
   "id": "f0c07675",
   "metadata": {},
   "source": [
    "### immutable"
   ]
  },
  {
   "cell_type": "code",
   "execution_count": 17,
   "id": "40513ef4",
   "metadata": {},
   "outputs": [
    {
     "data": {
      "text/plain": [
       "(1, 12.78, \"kohli's 75th century\", 15, 78)"
      ]
     },
     "execution_count": 17,
     "metadata": {},
     "output_type": "execute_result"
    }
   ],
   "source": [
    "sample_tuple=(1,12.78,\"kohli's 75th century\",15,78)\n",
    "sample_tuple"
   ]
  },
  {
   "cell_type": "code",
   "execution_count": 18,
   "id": "0ac6af23",
   "metadata": {},
   "outputs": [
    {
     "data": {
      "text/plain": [
       "tuple"
      ]
     },
     "execution_count": 18,
     "metadata": {},
     "output_type": "execute_result"
    }
   ],
   "source": [
    "type(sample_tuple)"
   ]
  },
  {
   "cell_type": "code",
   "execution_count": 19,
   "id": "42d66b28",
   "metadata": {},
   "outputs": [
    {
     "data": {
      "text/plain": [
       "tuple"
      ]
     },
     "execution_count": 19,
     "metadata": {},
     "output_type": "execute_result"
    }
   ],
   "source": [
    "sample_tuple=(1,12.78,\"kohli's 75th century\",15,78)\n",
    "type(sample_tuple)"
   ]
  },
  {
   "cell_type": "code",
   "execution_count": 25,
   "id": "10b45560",
   "metadata": {},
   "outputs": [
    {
     "data": {
      "text/plain": [
       "(1, 12.78, \"kohli's 75th century\", 15, 78)"
      ]
     },
     "execution_count": 25,
     "metadata": {},
     "output_type": "execute_result"
    }
   ],
   "source": [
    "sample_tuple=1,12.78,\"kohli's 75th century\",15,78\n",
    "sample_tuple"
   ]
  },
  {
   "cell_type": "code",
   "execution_count": 26,
   "id": "7a50e055",
   "metadata": {},
   "outputs": [
    {
     "data": {
      "text/plain": [
       "\"kohli's 75th century\""
      ]
     },
     "execution_count": 26,
     "metadata": {},
     "output_type": "execute_result"
    }
   ],
   "source": [
    "sample_tuple[2]"
   ]
  },
  {
   "cell_type": "code",
   "execution_count": 27,
   "id": "e8012546",
   "metadata": {},
   "outputs": [
    {
     "data": {
      "text/plain": [
       "12.78"
      ]
     },
     "execution_count": 27,
     "metadata": {},
     "output_type": "execute_result"
    }
   ],
   "source": [
    "sample_tuple[-4]"
   ]
  },
  {
   "cell_type": "code",
   "execution_count": 28,
   "id": "2e3eef88",
   "metadata": {},
   "outputs": [
    {
     "ename": "IndexError",
     "evalue": "tuple index out of range",
     "output_type": "error",
     "traceback": [
      "\u001b[1;31m---------------------------------------------------------------------------\u001b[0m",
      "\u001b[1;31mIndexError\u001b[0m                                Traceback (most recent call last)",
      "Input \u001b[1;32mIn [28]\u001b[0m, in \u001b[0;36m<cell line: 1>\u001b[1;34m()\u001b[0m\n\u001b[1;32m----> 1\u001b[0m \u001b[43msample_tuple\u001b[49m\u001b[43m[\u001b[49m\u001b[38;5;241;43m8\u001b[39;49m\u001b[43m]\u001b[49m\n",
      "\u001b[1;31mIndexError\u001b[0m: tuple index out of range"
     ]
    }
   ],
   "source": [
    "sample_tuple[8]"
   ]
  },
  {
   "cell_type": "code",
   "execution_count": 29,
   "id": "e36d3b87",
   "metadata": {},
   "outputs": [
    {
     "data": {
      "text/plain": [
       "1"
      ]
     },
     "execution_count": 29,
     "metadata": {},
     "output_type": "execute_result"
    }
   ],
   "source": [
    "sample_tuple[0]"
   ]
  },
  {
   "cell_type": "code",
   "execution_count": 30,
   "id": "6c8133e6",
   "metadata": {},
   "outputs": [
    {
     "ename": "TypeError",
     "evalue": "'tuple' object does not support item assignment",
     "output_type": "error",
     "traceback": [
      "\u001b[1;31m---------------------------------------------------------------------------\u001b[0m",
      "\u001b[1;31mTypeError\u001b[0m                                 Traceback (most recent call last)",
      "Input \u001b[1;32mIn [30]\u001b[0m, in \u001b[0;36m<cell line: 1>\u001b[1;34m()\u001b[0m\n\u001b[1;32m----> 1\u001b[0m sample_tuple[\u001b[38;5;241m0\u001b[39m]\u001b[38;5;241m=\u001b[39m\u001b[38;5;241m89\u001b[39m\n",
      "\u001b[1;31mTypeError\u001b[0m: 'tuple' object does not support item assignment"
     ]
    }
   ],
   "source": [
    "sample_tuple[0]=89"
   ]
  },
  {
   "cell_type": "markdown",
   "id": "07dbbd37",
   "metadata": {},
   "source": [
    "### SET"
   ]
  },
  {
   "cell_type": "markdown",
   "id": "b272b1cb",
   "metadata": {},
   "source": [
    "### Does not allow duplicates"
   ]
  },
  {
   "cell_type": "markdown",
   "id": "cc249b30",
   "metadata": {},
   "source": [
    "### Ordered-First place"
   ]
  },
  {
   "cell_type": "markdown",
   "id": "0d9141bd",
   "metadata": {},
   "source": [
    "### In set, elements cannot be retrived using index"
   ]
  },
  {
   "cell_type": "markdown",
   "id": "c4cd2b6b",
   "metadata": {},
   "source": [
    "### set is mutable"
   ]
  },
  {
   "cell_type": "code",
   "execution_count": 48,
   "id": "af70d7e4",
   "metadata": {},
   "outputs": [],
   "source": [
    "sample_set={1,22.7,\"hello\",15,1,127,25,25,\"apple\",\"Messi\",\"Ronaldo\"}"
   ]
  },
  {
   "cell_type": "code",
   "execution_count": 37,
   "id": "8afef6d3",
   "metadata": {},
   "outputs": [
    {
     "data": {
      "text/plain": [
       "{1, 127, 15, 22.7, 25, 'Messi', 'Ronaldo', 'apple', 'hello'}"
      ]
     },
     "execution_count": 37,
     "metadata": {},
     "output_type": "execute_result"
    }
   ],
   "source": [
    "sample_set"
   ]
  },
  {
   "cell_type": "code",
   "execution_count": 41,
   "id": "e3163342",
   "metadata": {},
   "outputs": [],
   "source": [
    "sample_set.add(1000)"
   ]
  },
  {
   "cell_type": "code",
   "execution_count": 42,
   "id": "1ddc90bb",
   "metadata": {},
   "outputs": [
    {
     "data": {
      "text/plain": [
       "{1, 1000, 127, 15, 22.7, 25, 'Messi', 'Ronaldo', 'apple', 'hello'}"
      ]
     },
     "execution_count": 42,
     "metadata": {},
     "output_type": "execute_result"
    }
   ],
   "source": [
    "sample_set"
   ]
  },
  {
   "cell_type": "code",
   "execution_count": 45,
   "id": "46101200",
   "metadata": {},
   "outputs": [],
   "source": [
    "sample_set.remove(\"Ronaldo\")"
   ]
  },
  {
   "cell_type": "code",
   "execution_count": 46,
   "id": "96f0640b",
   "metadata": {},
   "outputs": [
    {
     "name": "stdout",
     "output_type": "stream",
     "text": [
      "{1, 'hello', 1000, 15, 22.7, 25, 'Messi', 'apple', 127}\n"
     ]
    }
   ],
   "source": [
    "print(sample_set)"
   ]
  },
  {
   "cell_type": "markdown",
   "id": "d325b7bb",
   "metadata": {},
   "source": [
    "## DICTIONARY"
   ]
  },
  {
   "cell_type": "markdown",
   "id": "92328e2a",
   "metadata": {},
   "source": [
    "### Has key-value pair data structure"
   ]
  },
  {
   "cell_type": "markdown",
   "id": "c23e03e0",
   "metadata": {},
   "source": [
    "### Key is unique"
   ]
  },
  {
   "cell_type": "markdown",
   "id": "12ab6b72",
   "metadata": {},
   "source": [
    "### Values can be dy-uplicated"
   ]
  },
  {
   "cell_type": "markdown",
   "id": "12a42e7c",
   "metadata": {},
   "source": [
    "### Value can be retrived using key"
   ]
  },
  {
   "cell_type": "markdown",
   "id": "3b73ce6b",
   "metadata": {},
   "source": [
    "### Key cannot be retrived using value"
   ]
  },
  {
   "cell_type": "code",
   "execution_count": 54,
   "id": "2ffbdbe8",
   "metadata": {},
   "outputs": [
    {
     "data": {
      "text/plain": [
       "{1: 'apple', 2: 'hi', 3: 'data', 6: 35.4, 7: 35.4}"
      ]
     },
     "execution_count": 54,
     "metadata": {},
     "output_type": "execute_result"
    }
   ],
   "source": [
    "sample_dict={1:\"apple\",2:35.4,3:\"data\",2:\"every\",6:35.4,7:35.4,2:\"hi\"}\n",
    "sample_dict"
   ]
  },
  {
   "cell_type": "code",
   "execution_count": 55,
   "id": "acff627b",
   "metadata": {},
   "outputs": [
    {
     "data": {
      "text/plain": [
       "'hi'"
      ]
     },
     "execution_count": 55,
     "metadata": {},
     "output_type": "execute_result"
    }
   ],
   "source": [
    "sample_dict[2]"
   ]
  },
  {
   "cell_type": "code",
   "execution_count": 56,
   "id": "d14e61f2",
   "metadata": {},
   "outputs": [
    {
     "ename": "KeyError",
     "evalue": "'apple'",
     "output_type": "error",
     "traceback": [
      "\u001b[1;31m---------------------------------------------------------------------------\u001b[0m",
      "\u001b[1;31mKeyError\u001b[0m                                  Traceback (most recent call last)",
      "Input \u001b[1;32mIn [56]\u001b[0m, in \u001b[0;36m<cell line: 1>\u001b[1;34m()\u001b[0m\n\u001b[1;32m----> 1\u001b[0m \u001b[43msample_dict\u001b[49m\u001b[43m[\u001b[49m\u001b[38;5;124;43m\"\u001b[39;49m\u001b[38;5;124;43mapple\u001b[39;49m\u001b[38;5;124;43m\"\u001b[39;49m\u001b[43m]\u001b[49m\n",
      "\u001b[1;31mKeyError\u001b[0m: 'apple'"
     ]
    }
   ],
   "source": [
    "sample_dict[\"apple\"]"
   ]
  },
  {
   "cell_type": "code",
   "execution_count": 60,
   "id": "157b749d",
   "metadata": {},
   "outputs": [],
   "source": [
    "sample_dict[7]=100"
   ]
  },
  {
   "cell_type": "code",
   "execution_count": 61,
   "id": "1d010478",
   "metadata": {},
   "outputs": [
    {
     "data": {
      "text/plain": [
       "{1: 'apple', 2: 'hi', 3: 'data', 6: 35.4, 7: 100}"
      ]
     },
     "execution_count": 61,
     "metadata": {},
     "output_type": "execute_result"
    }
   ],
   "source": [
    "sample_dict"
   ]
  },
  {
   "cell_type": "code",
   "execution_count": 62,
   "id": "2582df23",
   "metadata": {},
   "outputs": [],
   "source": [
    "sample_dict[10]=\"Business\""
   ]
  },
  {
   "cell_type": "code",
   "execution_count": 63,
   "id": "fed4afc5",
   "metadata": {},
   "outputs": [
    {
     "data": {
      "text/plain": [
       "{1: 'apple', 2: 'hi', 3: 'data', 6: 35.4, 7: 100, 10: 'Business'}"
      ]
     },
     "execution_count": 63,
     "metadata": {},
     "output_type": "execute_result"
    }
   ],
   "source": [
    "sample_dict"
   ]
  },
  {
   "cell_type": "code",
   "execution_count": 64,
   "id": "2b3fcf42",
   "metadata": {},
   "outputs": [
    {
     "name": "stdout",
     "output_type": "stream",
     "text": [
      "{1: 'apple', 2: 'hi', 3: 'data', 6: 35.4, 7: 100, 10: 'Business'}\n"
     ]
    }
   ],
   "source": [
    "print(sample_dict)"
   ]
  },
  {
   "cell_type": "code",
   "execution_count": null,
   "id": "b6b31475",
   "metadata": {},
   "outputs": [],
   "source": [
    "### How to add key value pair to a dictionary?"
   ]
  }
 ],
 "metadata": {
  "kernelspec": {
   "display_name": "Python 3 (ipykernel)",
   "language": "python",
   "name": "python3"
  },
  "language_info": {
   "codemirror_mode": {
    "name": "ipython",
    "version": 3
   },
   "file_extension": ".py",
   "mimetype": "text/x-python",
   "name": "python",
   "nbconvert_exporter": "python",
   "pygments_lexer": "ipython3",
   "version": "3.9.12"
  }
 },
 "nbformat": 4,
 "nbformat_minor": 5
}
